{
 "cells": [
  {
   "cell_type": "markdown",
   "metadata": {},
   "source": [
    "# Jyve Demos\n",
    "\n",
    "> ## WARNING: **Abandon hope all ye who enter**\n",
    "> Jyve is **experimental** technology, and **blatantly disregards** some of the safegaurds engineered into JupyterLab. Jyve should **not be installed** on any trusted computing resource.\n",
    "\n",
    "\n",
    "Here are some demos of things you can do with Jyve and a modern browser."
   ]
  },
  {
   "cell_type": "code",
   "execution_count": null,
   "metadata": {},
   "outputs": [],
   "source": [
    "document.write(\"<h1>Hello DOM!</h1>\")\n",
    "display.display({\"text/markdown\": \"<h1>Hello Notebook</h1>\"})"
   ]
  },
  {
   "cell_type": "markdown",
   "metadata": {},
   "source": [
    "## IFrame Kernels\n",
    "Jyve kernels don't run on your notebook server. The first couple just run in their own iframe.\n",
    "\n",
    "> NOTE: Installing and using them might make your **JupyterLab unstable**! A future version of the iframe kernel would communicate over [`postMessage`](https://developer.mozilla.org/en-US/docs/Web/API/Window/postMessage). It's **even more unsafe** to run untrusted Jyve notebooks than other notebooks.\n",
    "\n",
    "- [JS](./notebooks/JS.ipynb)\n",
    "- [CoffeeScript](./notebooks/CoffeeScript.ipynb)\n",
    "- [TypeScript](./notebooks/TypeScript.ipynb)\n",
    "- [Brython](./notebooks/Brython.ipynb)\n",
    "- [P5](./nodebooks/P5.ipynb)"
   ]
  },
  {
   "cell_type": "markdown",
   "metadata": {},
   "source": [
    "## Language Features\n",
    "- [Basic Rich Output](./notebooks/Rich Output.ipynb)\n",
    "- [JupyterLab API](./notebooks/JupyterLab API.ipynb)\n",
    "- Detecting and displaying JavaScript types\n",
    "- Using the JupyterLab \"standard library\" (d3, React, jquery, phosphor, underscore, etc)\n",
    "- Widgets"
   ]
  },
  {
   "cell_type": "markdown",
   "metadata": {},
   "source": [
    "## Using packages from the internet\n",
    "- [RequireJS and d3](./notebooks/RequireJS and d3.ipynb) \n",
    "- SystemJS"
   ]
  },
  {
   "cell_type": "markdown",
   "metadata": {},
   "source": [
    "## Convenience Libraries\n",
    "You're free to go schlepp data from the internet to make your runtime application, but certain libraries used in the JupyterLab baseline (or close neighbors) are available directly:\n",
    "- [Phosphor Playground](./notebooks/Phosphor Playground.ipynb)\n",
    "- [d3 Playground](./notebookds/d3 Playground.ipynb)\n",
    "- React Playground\n",
    "- propelml Playground\n",
    "- Angular Playground"
   ]
  }
 ],
 "metadata": {
  "kernelspec": {
   "display_name": "JS (unsafe) — Jyve",
   "language": "javascript",
   "name": "jyve-js-unsafe"
  },
  "language_info": {
   "codemirror_mode": {
    "name": "javascript"
   },
   "file_extension": ".js",
   "mimetype": "text/javascript",
   "name": "javascript",
   "nbconvert_exporter": "javascript",
   "pygments_lexer": "javascript",
   "version": "ES2015"
  }
 },
 "nbformat": 4,
 "nbformat_minor": 2
}
