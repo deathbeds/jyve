{
 "cells": [
  {
   "cell_type": "code",
   "execution_count": null,
   "metadata": {},
   "outputs": [],
   "source": [
    "this.display.display({\n",
    "    \"text/html\": \"<h1>Hello 🗺️</h1>\"\n",
    "})"
   ]
  },
  {
   "cell_type": "code",
   "execution_count": null,
   "metadata": {},
   "outputs": [],
   "source": [
    "this.display.display({\n",
    "    \"text/markdown\": \"# Markdown\"\n",
    "})"
   ]
  },
  {
   "cell_type": "code",
   "execution_count": null,
   "metadata": {},
   "outputs": [],
   "source": [
    "this.display.display({\n",
    "    \"image/svg+xml\": \n",
    "    `<?xml version=\"1.0\" encoding=\"UTF-8\"?>\n",
    "    <svg xmlns=\"http://www.w3.org/2000/svg\" width=\"40\" height=\"20\">\n",
    "        <circle cx=\"10\" cy=\"10\" r=\"5\" fill=\"red\" />\n",
    "    </svg>`\n",
    "})"
   ]
  },
  {
   "cell_type": "code",
   "execution_count": null,
   "metadata": {},
   "outputs": [],
   "source": [
    "this.display.display({\n",
    "    \"text/latex\": `$$ \\\\liminf _{n\\\\to \\\\infty }x_{n} := \n",
    "                   \\\\lim _{n\\\\to \\\\infty }{\\\\Big (}\\\\inf _{m\\\\geq n}x_{m}{\\\\Big )} $$`,\n",
    "})"
   ]
  },
  {
   "cell_type": "code",
   "execution_count": null,
   "metadata": {},
   "outputs": [],
   "source": [
    "var that = this;\n",
    "setTimeout(function(){\n",
    "    that.display.display({\n",
    "        \"text/html\": \"<h1>Hello 🗺️</h1>\"\n",
    "    })\n",
    "}, 3000)\n",
    "\"doesn't block, but should print here in 3 seconds...\""
   ]
  },
  {
   "cell_type": "code",
   "execution_count": null,
   "metadata": {},
   "outputs": [],
   "source": [
    "1234"
   ]
  }
 ],
 "metadata": {
  "kernelspec": {
   "display_name": "JS (unsafe) — Jyve",
   "language": "javascript",
   "name": "jyve-js-unsafe"
  },
  "language_info": {
   "codemirror_mode": {
    "name": "javascript"
   },
   "file_extension": ".js",
   "mimetype": "text/javascript",
   "name": "javascript",
   "nbconvert_exporter": "javascript",
   "pygments_lexer": "javascript",
   "version": "ES2015"
  }
 },
 "nbformat": 4,
 "nbformat_minor": 2
}
