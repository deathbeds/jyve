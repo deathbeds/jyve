{
 "cells": [
  {
   "cell_type": "markdown",
   "metadata": {},
   "source": [
    "## Jyve P5\n",
    "[p5js](https://p5js.org/) is the spiritual successor to [`processing`](http://processingjs.org/), but uses bog-standard JavaScript for its execution... but does do some strange things to the environment to support its primary usage scenario.\n",
    "\n",
    "Here's an adaptation of their [Game of Life Example](https://p5js.org/examples/simulate-game-of-life.html). That example uses [Global Mode](https://github.com/processing/p5.js/wiki/Global-and-instance-mode) which does all kind of weird things to the global scope. It has been changed to use Instance Mode on the object `s` (`sketch` is used in the examples), which seems to work much better with the Jyve model."
   ]
  },
  {
   "cell_type": "code",
   "execution_count": null,
   "metadata": {},
   "outputs": [],
   "source": [
    "s = {}"
   ]
  },
  {
   "cell_type": "markdown",
   "metadata": {},
   "source": [
    "Fill board randomly"
   ]
  },
  {
   "cell_type": "code",
   "execution_count": null,
   "metadata": {},
   "outputs": [],
   "source": [
    "function setup() {\n",
    "  s.createCanvas(720, 800);\n",
    "  s.w = 20;\n",
    "  // Calculate columns and rows\n",
    "  s.columns = s.floor(s.width/s.w);\n",
    "  s.rows = s.floor(s.height/s.w);\n",
    "  // Wacky way to make a 2D array is JS\n",
    "  s.board = new Array(s.columns);\n",
    "  for (var i = 0; i < s.columns; i++) {\n",
    "    s.board[i] = new Array(s.rows);\n",
    "  } \n",
    "  // Going to use multiple 2D arrays and swap them\n",
    "  s.next = new Array(s.columns);\n",
    "  for (i = 0; i < s.columns; i++) {\n",
    "    s.next[i] = new Array(s.rows);\n",
    "  }\n",
    "  s.init();\n",
    "}"
   ]
  },
  {
   "cell_type": "code",
   "execution_count": null,
   "metadata": {},
   "outputs": [],
   "source": [
    "function init() {\n",
    "  for (var i = 0; i < s.columns; i++) {\n",
    "    for (var j = 0; j < s.rows; j++) {\n",
    "      // Lining the edges with 0s\n",
    "      if (i == 0 || j == 0 || i == s.columns-1 || j == s.rows-1) s.board[i][j] = 0;\n",
    "      // Filling the rest randomly\n",
    "      else s.board[i][j] = s.floor(s.random(2));\n",
    "      s.next[i][j] = 0;\n",
    "    }\n",
    "  }\n",
    "}"
   ]
  },
  {
   "cell_type": "markdown",
   "metadata": {},
   "source": [
    "The process of creating the new generation"
   ]
  },
  {
   "cell_type": "code",
   "execution_count": null,
   "metadata": {},
   "outputs": [],
   "source": [
    "function generate() {\n",
    "  // Loop through every spot in our 2D array and check spots neighbors\n",
    "  for (var x = 1; x < s.columns - 1; x++) {\n",
    "    for (var y = 1; y < s.rows - 1; y++) {\n",
    "      // Add up all the states in a 3x3 surrounding grid\n",
    "      var neighbors = 0;\n",
    "      for (var i = -1; i <= 1; i++) {\n",
    "        for (var j = -1; j <= 1; j++) {\n",
    "          neighbors += s.board[x+i][y+j];\n",
    "        }\n",
    "      }\n",
    "\n",
    "      // A little trick to subtract the current cell's state since\n",
    "      // we added it in the above loop\n",
    "      neighbors -= s.board[x][y];\n",
    "      // Rules of Life\n",
    "      if      ((s.board[x][y] == 1) && (neighbors <  2)) s.next[x][y] = 0;             // Loneliness\n",
    "      else if ((s.board[x][y] == 1) && (neighbors >  3)) s.next[x][y] = 0;             // Overpopulation\n",
    "      else if ((s.board[x][y] == 0) && (neighbors == 3)) s.next[x][y] = 1;             // Reproduction\n",
    "      else                                               s.next[x][y] = s.board[x][y]; // Stasis\n",
    "    }\n",
    "  }\n",
    "\n",
    "  // Swap!\n",
    "  var temp = s.board;\n",
    "  s.board = s.next;\n",
    "  s.next = temp;\n",
    "}"
   ]
  },
  {
   "cell_type": "code",
   "execution_count": null,
   "metadata": {},
   "outputs": [],
   "source": [
    "function draw() {\n",
    "  s.background(0);\n",
    "  s.generate();\n",
    "  for ( var i = 0; i < s.columns;i++) {\n",
    "    for ( var j = 0; j < s.rows;j++) {\n",
    "      if ((s.board[i][j] == 1)) s.fill(0);\n",
    "      else s.fill(255); \n",
    "      s.stroke(0);\n",
    "      s.rect(i*s.w, j*s.w, s.w-1, s.w-1);\n",
    "    }\n",
    "  }\n",
    "\n",
    "}"
   ]
  },
  {
   "cell_type": "markdown",
   "metadata": {},
   "source": [
    "reset board when mouse is pressed"
   ]
  },
  {
   "cell_type": "code",
   "execution_count": null,
   "metadata": {},
   "outputs": [],
   "source": [
    "function mousePressed() {\n",
    "  s.init();\n",
    "}"
   ]
  },
  {
   "cell_type": "markdown",
   "metadata": {},
   "source": [
    "## A Hack\n",
    "Apparently nothing happens until we instantiate `p5`. Also, as we are expecting things to run over and over again, when you get to this cell (i.e. with restart and run all cells), it tries to remove the sketch if it has already been installed.\n",
    "\n",
    "Further, since the \"real\" `s` in question is a `p5` instance, we need to take some care to make sure everything is called correctly, even after it is changed interactively, hence all the wrappers. Similarly, one could define them initially as `s.setup = function(){...}`, but this is a little closer to the original example."
   ]
  },
  {
   "cell_type": "code",
   "execution_count": null,
   "metadata": {},
   "outputs": [],
   "source": [
    "s.remove && s.remove()\n",
    "new p5((_s) => {\n",
    "    s = _s;\n",
    "    s.setup = () => setup();\n",
    "    s.draw = () => draw();\n",
    "    s.init = () => init();\n",
    "    s.generate = () => generate();\n",
    "    s.mousePressed = () => mousePressed();  \n",
    "})"
   ]
  }
 ],
 "metadata": {
  "kernelspec": {
   "display_name": "P5 (unsafe) — Jyve",
   "language": "processing",
   "name": "jyve-p5-unsafe"
  },
  "language_info": {
   "codemirror_mode": {
    "name": "javascript"
   },
   "file_extension": ".js",
   "mimetype": "text/javascript",
   "name": "javascript",
   "nbconvert_exporter": "javascript",
   "pygments_lexer": "javascript",
   "version": "2.2.1"
  }
 },
 "nbformat": 4,
 "nbformat_minor": 2
}
